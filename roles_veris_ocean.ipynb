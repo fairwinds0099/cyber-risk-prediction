{
 "cells": [
  {
   "cell_type": "code",
   "execution_count": 63,
   "metadata": {},
   "outputs": [],
   "source": [
    "import pandas as pd\n",
    "df = pd.read_csv('/Users/apple4u/Desktop/goksel tez/veris_insider.csv')\n",
    "df.head()\n",
    "df = df.groupby('actor_internal_variety_0')['confidentiality_data_total'].sum().sort_values(ascending=False)\n",
    "df = df.to_csv('/Users/apple4u/Desktop/goksel tez/veris_role_C_amount.csv')"
   ]
  },
  {
   "cell_type": "code",
   "execution_count": 64,
   "metadata": {},
   "outputs": [
    {
     "name": "stdout",
     "output_type": "stream",
     "text": [
      "role\n",
      "ProductionLineWorker        16\n",
      "Salesman                    10\n",
      "ITAdmin                     10\n",
      "Technician                   6\n",
      "SoftwareEngineer             3\n",
      "ComputerScientist            3\n",
      "TestEngineer                 2\n",
      "ComputerProgrammer           2\n",
      "AdministrativeAssistant      2\n",
      "Mathematician                2\n",
      "Physicist                    2\n",
      "SystemsEngineer              2\n",
      "InstructionalCoordinator     1\n",
      "HumanResourceSpecialist      1\n",
      "HardwareEngineer             1\n",
      "Engineer                     1\n",
      "ElectricalEngineer           1\n",
      "SecurityGuard                1\n",
      "AdministrativeStaff          1\n",
      "IndustrialEngineer           1\n",
      "Name: user_id, dtype: int64\n"
     ]
    }
   ],
   "source": [
    "df2 = pd.read_csv('/Users/apple4u/Desktop/goksel tez/results_with_scenarios.csv')\n",
    "df2 = df2[df2['insider_label']==1]\n",
    "df2.head()\n",
    "df2 = df2.groupby('role')['user_id'].count().sort_values(ascending=False)\n",
    "print(df2)\n",
    "df2 = df2.to_csv('/Users/apple4u/Desktop/goksel tez/OCEAN_roles.csv')"
   ]
  },
  {
   "cell_type": "code",
   "execution_count": null,
   "metadata": {},
   "outputs": [],
   "source": []
  },
  {
   "cell_type": "code",
   "execution_count": null,
   "metadata": {},
   "outputs": [],
   "source": []
  },
  {
   "cell_type": "code",
   "execution_count": null,
   "metadata": {},
   "outputs": [],
   "source": []
  },
  {
   "cell_type": "code",
   "execution_count": null,
   "metadata": {},
   "outputs": [],
   "source": []
  }
 ],
 "metadata": {
  "kernelspec": {
   "display_name": "Python 3",
   "language": "python",
   "name": "python3"
  },
  "language_info": {
   "codemirror_mode": {
    "name": "ipython",
    "version": 3
   },
   "file_extension": ".py",
   "mimetype": "text/x-python",
   "name": "python",
   "nbconvert_exporter": "python",
   "pygments_lexer": "ipython3",
   "version": "3.8.5"
  }
 },
 "nbformat": 4,
 "nbformat_minor": 4
}
